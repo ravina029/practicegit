{
  "nbformat": 4,
  "nbformat_minor": 0,
  "metadata": {
    "colab": {
      "provenance": [],
      "authorship_tag": "ABX9TyN2/7vRWjmTLs64nX3JPljJ",
      "include_colab_link": true
    },
    "kernelspec": {
      "name": "python3",
      "display_name": "Python 3"
    },
    "language_info": {
      "name": "python"
    }
  },
  "cells": [
    {
      "cell_type": "markdown",
      "metadata": {
        "id": "view-in-github",
        "colab_type": "text"
      },
      "source": [
        "<a href=\"https://colab.research.google.com/github/ravina029/practicegit/blob/main/PythonPractice.ipynb\" target=\"_parent\"><img src=\"https://colab.research.google.com/assets/colab-badge.svg\" alt=\"Open In Colab\"/></a>"
      ]
    },
    {
      "cell_type": "code",
      "execution_count": null,
      "metadata": {
        "colab": {
          "base_uri": "https://localhost:8080/"
        },
        "id": "7kEThN1it0Ap",
        "outputId": "e44f7eb1-4c3a-4f65-c407-c0822729882a"
      },
      "outputs": [
        {
          "output_type": "stream",
          "name": "stdout",
          "text": [
            "15\n"
          ]
        }
      ],
      "source": [
        "def add(*n):\n",
        "  sum=0\n",
        "  for n1 in n:\n",
        "    sum=sum+n1\n",
        "  print(sum)\n",
        "\n",
        "add(1,2,3,4,5)\n"
      ]
    },
    {
      "cell_type": "code",
      "source": [
        "add(10)"
      ],
      "metadata": {
        "colab": {
          "base_uri": "https://localhost:8080/"
        },
        "id": "P2CrYD_FuLqL",
        "outputId": "48bb8d28-2298-4456-d7b5-8d2b6efb72a5"
      },
      "execution_count": null,
      "outputs": [
        {
          "output_type": "stream",
          "name": "stdout",
          "text": [
            "10\n"
          ]
        }
      ]
    },
    {
      "cell_type": "code",
      "source": [
        "def info(**kwarg):\n",
        "  for k,v in kwarg.items():\n",
        "    print(k,\"=\",v)\n",
        "info(roll_no=10, name=\"ravina\", institute=\"Technion\", address=\"Technion city, Haifa\")\n"
      ],
      "metadata": {
        "colab": {
          "base_uri": "https://localhost:8080/"
        },
        "id": "jaqOEATHutiU",
        "outputId": "0353595c-23cb-4c00-c423-4f1ea79f6bc3"
      },
      "execution_count": null,
      "outputs": [
        {
          "output_type": "stream",
          "name": "stdout",
          "text": [
            "roll_no = 10\n",
            "name = ravina\n",
            "institute = Technion\n",
            "address = Technion city, Haifa\n"
          ]
        }
      ]
    },
    {
      "cell_type": "code",
      "source": [
        "I=[1,2,34,4,5,8]\n",
        "list(filter(lambda x:x%2==0,I))"
      ],
      "metadata": {
        "colab": {
          "base_uri": "https://localhost:8080/"
        },
        "id": "OrkvXWX-v6xg",
        "outputId": "acc675e6-d0be-43d7-ef71-0a2d27047053"
      },
      "execution_count": null,
      "outputs": [
        {
          "output_type": "execute_result",
          "data": {
            "text/plain": [
              "[2, 34, 4, 8]"
            ]
          },
          "metadata": {},
          "execution_count": 2
        }
      ]
    },
    {
      "cell_type": "code",
      "source": [
        "list(map(lambda x: x*x,I))"
      ],
      "metadata": {
        "colab": {
          "base_uri": "https://localhost:8080/"
        },
        "id": "9KR5bk6DLv90",
        "outputId": "f66eaa82-758e-4c4c-ea73-8d4d8df1807a"
      },
      "execution_count": null,
      "outputs": [
        {
          "output_type": "execute_result",
          "data": {
            "text/plain": [
              "[1, 4, 1156, 16, 25, 64]"
            ]
          },
          "metadata": {},
          "execution_count": 3
        }
      ]
    },
    {
      "cell_type": "code",
      "source": [
        "list(map(lambda x: x+x*x+1,I))"
      ],
      "metadata": {
        "colab": {
          "base_uri": "https://localhost:8080/"
        },
        "id": "PyoOnYDaMtTA",
        "outputId": "21db722e-4df5-4ac6-c42a-b0086a836b29"
      },
      "execution_count": null,
      "outputs": [
        {
          "output_type": "execute_result",
          "data": {
            "text/plain": [
              "[3, 7, 1191, 21, 31, 73]"
            ]
          },
          "metadata": {},
          "execution_count": 4
        }
      ]
    },
    {
      "cell_type": "code",
      "source": [
        "from random import *"
      ],
      "metadata": {
        "id": "dY_SpBZLNAKX"
      },
      "execution_count": null,
      "outputs": []
    },
    {
      "cell_type": "code",
      "source": [
        "for i in range(10):\n",
        "  print(uniform(1,10))"
      ],
      "metadata": {
        "colab": {
          "base_uri": "https://localhost:8080/"
        },
        "id": "LRbmP52f8gYb",
        "outputId": "551cda93-dee4-4343-ba49-7fb5b1d69e8f"
      },
      "execution_count": null,
      "outputs": [
        {
          "output_type": "stream",
          "name": "stdout",
          "text": [
            "2.6317160462604727\n",
            "1.8314133078144046\n",
            "5.573831670266876\n",
            "6.389450805154769\n",
            "1.8467346303267305\n",
            "4.543776732316776\n",
            "9.905856594210137\n",
            "9.592670241514456\n",
            "7.217137002252057\n",
            "7.019898370504804\n"
          ]
        }
      ]
    },
    {
      "cell_type": "code",
      "source": [
        "print(uniform(1,10)) #gives random values between 0 to 1 not inclusive"
      ],
      "metadata": {
        "colab": {
          "base_uri": "https://localhost:8080/"
        },
        "id": "yfaP--PT8EeY",
        "outputId": "535f9acc-76cb-4bec-d3df-440e996f10f6"
      },
      "execution_count": null,
      "outputs": [
        {
          "output_type": "stream",
          "name": "stdout",
          "text": [
            "4.562709906916348\n"
          ]
        }
      ]
    },
    {
      "cell_type": "code",
      "source": [
        "random.seed(19)\n",
        "print(randint(1,10)) # gives random integer between 1 to 10"
      ],
      "metadata": {
        "colab": {
          "base_uri": "https://localhost:8080/"
        },
        "id": "Dmu2rSTh8Qgg",
        "outputId": "68b30789-b250-4062-8728-cabf0c635246"
      },
      "execution_count": null,
      "outputs": [
        {
          "output_type": "stream",
          "name": "stdout",
          "text": [
            "1\n"
          ]
        }
      ]
    },
    {
      "cell_type": "code",
      "source": [
        "print(random()) #produce random number between 0 and 1"
      ],
      "metadata": {
        "colab": {
          "base_uri": "https://localhost:8080/"
        },
        "id": "Wp9D0syW8Xcd",
        "outputId": "1b1bd518-987e-4042-fe7a-76c58bb11e76"
      },
      "execution_count": null,
      "outputs": [
        {
          "output_type": "stream",
          "name": "stdout",
          "text": [
            "0.4372328997179694\n"
          ]
        }
      ]
    },
    {
      "cell_type": "code",
      "source": [
        "randrange(10)"
      ],
      "metadata": {
        "colab": {
          "base_uri": "https://localhost:8080/"
        },
        "id": "UuFV9Pa680IR",
        "outputId": "8e9a9503-672e-447c-bf30-02d52ea81d6b"
      },
      "execution_count": null,
      "outputs": [
        {
          "output_type": "execute_result",
          "data": {
            "text/plain": [
              "8"
            ]
          },
          "metadata": {},
          "execution_count": 9
        }
      ]
    },
    {
      "cell_type": "code",
      "source": [
        "for i in range(10):\n",
        "   print(randrange(1,10,2))"
      ],
      "metadata": {
        "colab": {
          "base_uri": "https://localhost:8080/"
        },
        "id": "qmiu6eXd94ip",
        "outputId": "894473b3-3f27-48da-a2ab-28c6569aff4e"
      },
      "execution_count": null,
      "outputs": [
        {
          "output_type": "stream",
          "name": "stdout",
          "text": [
            "3\n",
            "9\n",
            "5\n",
            "3\n",
            "1\n",
            "7\n",
            "3\n",
            "5\n",
            "3\n",
            "9\n"
          ]
        }
      ]
    },
    {
      "cell_type": "code",
      "source": [
        "A=[2,3,4,5,54,566,78]\n",
        "for i in range (1,10):\n",
        "  print(choice(A))"
      ],
      "metadata": {
        "colab": {
          "base_uri": "https://localhost:8080/"
        },
        "id": "K96lVZUF98-v",
        "outputId": "47fff449-db4c-4eca-a3d0-6656dc0ddf2b"
      },
      "execution_count": null,
      "outputs": [
        {
          "output_type": "stream",
          "name": "stdout",
          "text": [
            "54\n",
            "3\n",
            "54\n",
            "4\n",
            "2\n",
            "4\n",
            "5\n",
            "4\n",
            "4\n"
          ]
        }
      ]
    },
    {
      "cell_type": "code",
      "source": [
        "seed=10\n",
        "print(choice(A))"
      ],
      "metadata": {
        "colab": {
          "base_uri": "https://localhost:8080/"
        },
        "id": "MyF6FzaR-zWz",
        "outputId": "aaf709ba-b725-410a-f755-df8aa7629359"
      },
      "execution_count": null,
      "outputs": [
        {
          "output_type": "stream",
          "name": "stdout",
          "text": [
            "566\n"
          ]
        }
      ]
    },
    {
      "cell_type": "code",
      "source": [
        "import random\n",
        "\n",
        "# Set the seed to a specific value (e.g., 19)\n",
        "random.seed(19)\n",
        "\n",
        "# Generate and print a random number between 1 and 10\n",
        "random_number = random.randint(1, 10)\n",
        "print(\"Generated random number:\", random_number)\n",
        "\n"
      ],
      "metadata": {
        "colab": {
          "base_uri": "https://localhost:8080/"
        },
        "id": "DHUk-vQl-6wJ",
        "outputId": "1851f6c0-5907-4a01-cf59-f8ded7919212"
      },
      "execution_count": null,
      "outputs": [
        {
          "output_type": "stream",
          "name": "stdout",
          "text": [
            "Generated random number: 1\n"
          ]
        }
      ]
    },
    {
      "cell_type": "code",
      "source": [
        "class Ravina:\n",
        "  print(\"let's learn about the class\")\n",
        "print(Ravina.__doc__)\n",
        "help(Ravina)"
      ],
      "metadata": {
        "colab": {
          "base_uri": "https://localhost:8080/"
        },
        "id": "RecND8GJFm-D",
        "outputId": "d646bcd0-da9a-4283-e510-c68bca2e0d2b"
      },
      "execution_count": null,
      "outputs": [
        {
          "output_type": "stream",
          "name": "stdout",
          "text": [
            "let's learn about the class\n",
            "None\n",
            "Help on class Ravina in module __main__:\n",
            "\n",
            "class Ravina(builtins.object)\n",
            " |  Data descriptors defined here:\n",
            " |  \n",
            " |  __dict__\n",
            " |      dictionary for instance variables (if defined)\n",
            " |  \n",
            " |  __weakref__\n",
            " |      list of weak references to the object (if defined)\n",
            "\n"
          ]
        }
      ]
    },
    {
      "cell_type": "code",
      "source": [
        "class Student:\n",
        "  'Developed by durga for python demo'\n",
        "  def __init__(self,*arg):\n",
        "       self.name='durga'\n",
        "       self.age=40\n",
        "       self.marks=80\n",
        "  def talk(self):\n",
        "      print(\"Hello I am :\",self.name)\n",
        "      print(\"My Age is:\",self.age)\n",
        "      print(\"My Marks are:\",self.marks)\n",
        "a=Student(\"Ravina\",29,97)\n",
        "a.talk()"
      ],
      "metadata": {
        "colab": {
          "base_uri": "https://localhost:8080/"
        },
        "id": "LFOEYBFrHUEn",
        "outputId": "1a1fb4e0-74f9-426a-fa51-2af01c2f5e99"
      },
      "execution_count": null,
      "outputs": [
        {
          "output_type": "stream",
          "name": "stdout",
          "text": [
            "Hello I am : durga\n",
            "My Age is: 40\n",
            "My Marks are: 80\n"
          ]
        }
      ]
    },
    {
      "cell_type": "code",
      "source": [
        "#from typing_extensions import AsyncGenerator\n",
        "\n",
        "class student:\n",
        "  def __init__(self,*arg):\n",
        "    print(\"we have initialize all the information about the sudent\")\n",
        "    self.name=arg[0]\n",
        "    self.age=23\n",
        "    self.roll=2\n",
        "    self.marks=98\n",
        "  def performance(self):\n",
        "    print(\"performance of the student is quite well. and the name of the student is:\", self.name)\n",
        "\n",
        "s1=student(\"Ravina\")\n",
        "s2=student(\"Urvashi\")\n",
        "s3=student(\"Jayant\")\n",
        "s1.performance()\n",
        "s2.performance()\n",
        "s3.performance()\n",
        "\n"
      ],
      "metadata": {
        "colab": {
          "base_uri": "https://localhost:8080/"
        },
        "id": "NQB8mntPJKs6",
        "outputId": "52cbd9c9-9b35-4751-c84b-8beb47d0b5e4"
      },
      "execution_count": null,
      "outputs": [
        {
          "output_type": "stream",
          "name": "stdout",
          "text": [
            "we have initialize all the information about the sudent\n",
            "we have initialize all the information about the sudent\n",
            "we have initialize all the information about the sudent\n",
            "performance of the student is quite well. and the name of the student is: Ravina\n",
            "performance of the student is quite well. and the name of the student is: Urvashi\n",
            "performance of the student is quite well. and the name of the student is: Jayant\n"
          ]
        }
      ]
    },
    {
      "cell_type": "code",
      "source": [
        "class Student:\n",
        "    def __init__(self, *args):\n",
        "        #print(\"we have initialized all the information about the student\")\n",
        "        self.student_name = args[0]  # Use a different attribute name\n",
        "        self.age = 23\n",
        "        self.roll = 2\n",
        "        self.marks = 98\n",
        "\n",
        "    def performance(self):\n",
        "        print(\"Performance of the student is quite well. The name of the student is:\", self.student_name)\n",
        "\n",
        "s1 = Student\n",
        "s1.d=10\n",
        "print(s1.__dict__)\n",
        "\n"
      ],
      "metadata": {
        "colab": {
          "base_uri": "https://localhost:8080/"
        },
        "id": "9v540MUVQOwX",
        "outputId": "8c6b9d09-a092-456e-b7f2-68304cfdddff"
      },
      "execution_count": null,
      "outputs": [
        {
          "output_type": "stream",
          "name": "stdout",
          "text": [
            "{'__module__': '__main__', '__init__': <function Student.__init__ at 0x7f7180aa7c70>, 'performance': <function Student.performance at 0x7f7180aa75b0>, '__dict__': <attribute '__dict__' of 'Student' objects>, '__weakref__': <attribute '__weakref__' of 'Student' objects>, '__doc__': None, 'd': 10}\n"
          ]
        }
      ]
    },
    {
      "cell_type": "code",
      "source": [
        "print(Student.__dict__)"
      ],
      "metadata": {
        "colab": {
          "base_uri": "https://localhost:8080/"
        },
        "id": "RRU0NyuaUezu",
        "outputId": "02b8b86e-3065-4f67-fb44-75ec5bea2e0f"
      },
      "execution_count": null,
      "outputs": [
        {
          "output_type": "stream",
          "name": "stdout",
          "text": [
            "{'__module__': '__main__', '__init__': <function Student.__init__ at 0x7f7180aa72e0>, 'performance': <function Student.performance at 0x7f7180aa5fc0>, '__dict__': <attribute '__dict__' of 'Student' objects>, '__weakref__': <attribute '__weakref__' of 'Student' objects>, '__doc__': None}\n"
          ]
        }
      ]
    },
    {
      "cell_type": "code",
      "source": [
        "class Fruits:\n",
        "  def __init__(self,*arg):\n",
        "    self.f1=\"orange\"\n",
        "    self.f2=\"banana\"\n",
        "    self.f3=\"cheeku\"\n",
        "    self.f4=\"Peach\"\n",
        "  def test(self):\n",
        "    print(f\"{self.f1} taste sauer \\n {self.f2} taste sweet \\n {self.f3} taste super sweet \\n {self.f4} taste sauer and sweet\")\n",
        "\n",
        "\n",
        "f=Fruits()\n",
        "g=Fruits()\n",
        "del f.f1\n",
        "\n",
        "g.test()\n",
        "\n"
      ],
      "metadata": {
        "colab": {
          "base_uri": "https://localhost:8080/"
        },
        "id": "as71_-yBZcVF",
        "outputId": "dea22f09-851b-496f-899c-687502db935b"
      },
      "execution_count": null,
      "outputs": [
        {
          "output_type": "stream",
          "name": "stdout",
          "text": [
            "orange taste sauer \n",
            " banana taste sweet \n",
            " cheeku taste super sweet \n",
            " Peach taste sauer and sweet\n"
          ]
        }
      ]
    },
    {
      "cell_type": "markdown",
      "source": [
        "# Handle the exceptions"
      ],
      "metadata": {
        "id": "1Qb4iDFYgDav"
      }
    },
    {
      "cell_type": "code",
      "source": [
        "try:\n",
        "  print(34/0)\n",
        "except ZeroDivisionError as msg:\n",
        "  print(\"there is an error, enter the valid number. And the error is:\",msg)\n",
        "finally:\n",
        "  print(\"This statement is executed in the finally block.\")\n",
        "\n"
      ],
      "metadata": {
        "id": "P2H3Z3HCpfbn",
        "colab": {
          "base_uri": "https://localhost:8080/"
        },
        "outputId": "4691738b-f360-4785-c4ac-63df0f0c2245"
      },
      "execution_count": null,
      "outputs": [
        {
          "output_type": "stream",
          "name": "stdout",
          "text": [
            "there is an error, enter the valid number. And the error is: division by zero\n",
            "This statement is executed in the finally block.\n"
          ]
        }
      ]
    },
    {
      "cell_type": "markdown",
      "source": [
        "# Nested try except and finally block"
      ],
      "metadata": {
        "id": "-eWimm71hF3E"
      }
    },
    {
      "cell_type": "code",
      "source": [
        "try:\n",
        "  print(\"This is the first outer try block\")\n",
        "  try:\n",
        "      int(input(\"Enter a number:\"))\n",
        "  except ValueError as msg:\n",
        "      print(\"Enter a valid number, inappropriate entry will raise the error:\",msg)\n",
        "  finally:\n",
        "      print(\"Yay, we are done with the inside block\")\n",
        "except ZeroDivisionError as msg:\n",
        "  print(\"there is an error, enter the valid number. And the error is:\",msg)\n",
        "finally:\n",
        "  print(\"This statement is executed in the finally block.\")"
      ],
      "metadata": {
        "colab": {
          "base_uri": "https://localhost:8080/"
        },
        "id": "mY3qP7ABhLAP",
        "outputId": "dbbc0c60-a7f5-46b6-b9ed-7d77604f1933"
      },
      "execution_count": null,
      "outputs": [
        {
          "output_type": "stream",
          "name": "stdout",
          "text": [
            "This is the first outer try block\n",
            "Enter a number:ten\n",
            "Enter a valid number, inappropriate entry will raise the error, invalid literal for int() with base 10: 'ten'\n",
            "Yay, we are done with the inside block\n",
            "This statement is executed in the finally block.\n"
          ]
        }
      ]
    },
    {
      "cell_type": "markdown",
      "source": [],
      "metadata": {
        "id": "ezy7yeVmihG-"
      }
    },
    {
      "cell_type": "markdown",
      "source": [
        "# Above are the predefined errors in the python, we can also raise our own custom errors."
      ],
      "metadata": {
        "id": "H7q0Us2Ji3Xc"
      }
    },
    {
      "cell_type": "code",
      "source": [
        "class TooyoungException(Exception):\n",
        "  def __init__(self,arg):\n",
        "    self.msg=arg\n",
        "\n",
        "class TooyoungOld(Exception):\n",
        "  def __init__(self,arg):\n",
        "    self.msg=arg\n",
        "\n",
        "age=int(input(\"Enter your age:\"))\n",
        "if age<18:\n",
        "  raise TooyoungException(\"Please waite for some time And you will the corect match\")\n",
        "\n",
        "elif age>60:\n",
        "  raise TooyoungOld(\"You are too old, probaly your marrige age has passed, best of you find a match\")\n",
        "else:\n",
        "  print(\"You will get your match details soon on the mail id given by you.\")\n",
        "\n",
        "\n"
      ],
      "metadata": {
        "colab": {
          "base_uri": "https://localhost:8080/"
        },
        "id": "9MS8omWCicAT",
        "outputId": "18181896-76e3-4fca-ef2b-e359930d49d5"
      },
      "execution_count": null,
      "outputs": [
        {
          "output_type": "stream",
          "name": "stdout",
          "text": [
            "Enter your age:24\n",
            "You will get your match details soon on the mail id given by you.\n"
          ]
        }
      ]
    },
    {
      "cell_type": "markdown",
      "source": [
        "# Decorators: If we want to extend the functionality of a function without changing it then we use decorators."
      ],
      "metadata": {
        "id": "Unjc5x58wXXc"
      }
    },
    {
      "cell_type": "code",
      "source": [
        "def greeting(func):\n",
        "  def hey(name):\n",
        "    if name==\"ravina\":\n",
        "      return print(f\"hello {name} good morning, you are doing well\")\n",
        "    else:\n",
        "      return func(name)\n",
        "  return hey\n",
        "@greeting\n",
        "def hello(name):\n",
        "  print(f\"hello {name } good morning, you are best in your work\")\n",
        "\n",
        "\n",
        "hello(\"ravina\")\n",
        "hello(\"jayant\")\n",
        "hello(\"papa\")\n",
        "hello(\"ritu\")\n",
        "hello(\"deepak\")"
      ],
      "metadata": {
        "id": "B6GcyvfDoMX_",
        "colab": {
          "base_uri": "https://localhost:8080/"
        },
        "outputId": "cec9bf28-2f69-4dea-eb9e-d46b18b44ff2"
      },
      "execution_count": null,
      "outputs": [
        {
          "output_type": "stream",
          "name": "stdout",
          "text": [
            "hello ravina good morning, you are doing well\n",
            "hello jayant good morning, you are best in your work\n",
            "hello papa good morning, you are best in your work\n",
            "hello ritu good morning, you are best in your work\n",
            "hello deepak good morning, you are best in your work\n"
          ]
        }
      ]
    },
    {
      "cell_type": "markdown",
      "source": [
        "# Calling function with decorator without without using a decorator"
      ],
      "metadata": {
        "id": "EAHc4q8o0vYf"
      }
    },
    {
      "cell_type": "code",
      "source": [
        "def greeting(func):\n",
        "  def hey(name):\n",
        "    if name==\"ravina\":\n",
        "      return print(f\"hello {name} good morning, you are doing well\")\n",
        "    else:\n",
        "      return func(name)\n",
        "  return hey\n",
        "\n",
        "def hello(name):\n",
        "  print(f\"hello {name } good morning, you are best in your work\")\n",
        "\n",
        "\n",
        "greeting(hello(\"ravina\"))\n",
        "greeting(hello(\"jayant\"))\n",
        "greeting(hello(\"papa\"))\n",
        "greeting(hello(\"ritu\"))\n",
        "greeting(hello(\"deepak\"))"
      ],
      "metadata": {
        "colab": {
          "base_uri": "https://localhost:8080/"
        },
        "id": "Z9wtPphYxikV",
        "outputId": "96f45d57-7cfc-407a-c022-d847f8b42328"
      },
      "execution_count": null,
      "outputs": [
        {
          "output_type": "stream",
          "name": "stdout",
          "text": [
            "hello ravina good morning, you are best in your work\n",
            "hello jayant good morning, you are best in your work\n",
            "hello papa good morning, you are best in your work\n",
            "hello ritu good morning, you are best in your work\n",
            "hello deepak good morning, you are best in your work\n"
          ]
        },
        {
          "output_type": "execute_result",
          "data": {
            "text/plain": [
              "<function __main__.greeting.<locals>.hey(name)>"
            ]
          },
          "metadata": {},
          "execution_count": 13
        }
      ]
    },
    {
      "cell_type": "code",
      "source": [
        "def carefull_devision(division):\n",
        "  def devide(a,b):\n",
        "    if b==0:\n",
        "      print(\"ooops, devision can't be performed\")\n",
        "      return\n",
        "    else:\n",
        "      return division(a,b)\n",
        "  return devide\n",
        "\n",
        "\n",
        "@carefull_devision\n",
        "def division(a,b):\n",
        "  return print(\"result of the devision is :\", a/b)\n",
        "\n",
        "division(2,3)\n",
        "division(10,2)\n",
        "#division(2,0)"
      ],
      "metadata": {
        "colab": {
          "base_uri": "https://localhost:8080/"
        },
        "id": "ISjpQbHf1TwX",
        "outputId": "1ba24218-9e0d-4b58-ac4a-f3e2a631ed1e"
      },
      "execution_count": null,
      "outputs": [
        {
          "output_type": "stream",
          "name": "stdout",
          "text": [
            "result of the devision is : 0.6666666666666666\n",
            "result of the devision is : 5.0\n"
          ]
        }
      ]
    },
    {
      "cell_type": "code",
      "source": [
        "def add(func):\n",
        "  def operation(a,b):\n",
        "    return a+b\n",
        "  return operation\n",
        "\n",
        "def mul(func):\n",
        "  def operation(a,b):\n",
        "    return a*b\n",
        "  return operation\n",
        "\n",
        "@add\n",
        "@mul\n",
        "def number(a,b):\n",
        "  return a,b\n",
        "\n",
        "\n",
        "\n",
        "number(2,3)\n",
        "number(5,6)"
      ],
      "metadata": {
        "colab": {
          "base_uri": "https://localhost:8080/"
        },
        "id": "xaCS8oYh2zh9",
        "outputId": "143c3f91-41df-42ff-93bf-c8b1ec4ce3aa"
      },
      "execution_count": null,
      "outputs": [
        {
          "output_type": "execute_result",
          "data": {
            "text/plain": [
              "11"
            ]
          },
          "metadata": {},
          "execution_count": 24
        }
      ]
    },
    {
      "cell_type": "markdown",
      "source": [
        "Generator functions: which are resposible for generating a sequence of values usiang the yield method. and the outputs can be recieved using the next word.\n"
      ],
      "metadata": {
        "id": "m9np4RwK93YV"
      }
    },
    {
      "cell_type": "code",
      "source": [
        "def my_gen():\n",
        "  yield \"A\"\n",
        "  yield \"B\"\n",
        "  yield \"C\"\n",
        "\n",
        "gen=my_gen()\n",
        "print(type(gen))\n",
        "\n",
        "print(next(gen))\n",
        "print(next(gen))\n",
        "print(next(gen))\n",
        "#print(next(gen))  #it will raise Stopiteration error. because the fucntion goes out of value.\n"
      ],
      "metadata": {
        "colab": {
          "base_uri": "https://localhost:8080/"
        },
        "id": "c2ZMukye6r0k",
        "outputId": "5bca658e-d804-4649-a9c8-4819ee865178"
      },
      "execution_count": null,
      "outputs": [
        {
          "output_type": "stream",
          "name": "stdout",
          "text": [
            "<class 'generator'>\n",
            "A\n",
            "B\n",
            "C\n"
          ]
        }
      ]
    },
    {
      "cell_type": "code",
      "source": [
        "def iteration(n):\n",
        "  print(\"Start the contious iteration. this is to demostarate a different usecase of geneartor function\")\n",
        "\n",
        "  while(n>0):\n",
        "    yield n\n",
        "    n=n-1\n",
        "iter=iteration(5)\n",
        "for i in (iter):\n",
        "   print(i)"
      ],
      "metadata": {
        "colab": {
          "base_uri": "https://localhost:8080/"
        },
        "id": "JlZyeVjP-sCo",
        "outputId": "78f5bc35-c169-4c36-b640-ebc52845a6da"
      },
      "execution_count": null,
      "outputs": [
        {
          "output_type": "stream",
          "name": "stdout",
          "text": [
            "Start the contious iteration. this is to demostarate a different usecase of geneartor function\n",
            "5\n",
            "4\n",
            "3\n",
            "2\n",
            "1\n"
          ]
        }
      ]
    },
    {
      "cell_type": "code",
      "source": [
        "I=[x*x for x in range(10000000000000000)] #it will give memory error\n",
        "print(I[0])"
      ],
      "metadata": {
        "id": "2ElzjdUZALec"
      },
      "execution_count": null,
      "outputs": []
    },
    {
      "cell_type": "code",
      "source": [
        "# with the help of generators we will not get any error but we will get only one value\n",
        "g=(x*x for x in range(10000000000000000))\n",
        "print(next(g))"
      ],
      "metadata": {
        "colab": {
          "base_uri": "https://localhost:8080/"
        },
        "id": "QrFAKpJcEBDg",
        "outputId": "0aca3717-149f-483e-b3e2-544a7bec188a"
      },
      "execution_count": null,
      "outputs": [
        {
          "output_type": "stream",
          "name": "stdout",
          "text": [
            "0\n"
          ]
        }
      ]
    },
    {
      "cell_type": "markdown",
      "source": [
        "# Assertion Statements"
      ],
      "metadata": {
        "id": "2hgDlVwUFX-a"
      }
    },
    {
      "cell_type": "code",
      "source": [
        "def cubeit(x):\n",
        "  return x**3\n",
        "\n",
        "\"\"\"Following assert statenment will give the assertion error if there is any\"\"\"\n",
        "assert cubeit(2)==8    #\"Cube of tye given. number must be 8\"\n",
        "assert cubeit(3)==27   # Cube of three should be 27\n",
        "\n",
        "print(cubeit(2))\n",
        "print(cubeit(3))"
      ],
      "metadata": {
        "colab": {
          "base_uri": "https://localhost:8080/"
        },
        "id": "V--yqK2nFayX",
        "outputId": "636ff7cd-ed11-4538-b618-64cb11523bac"
      },
      "execution_count": null,
      "outputs": [
        {
          "output_type": "stream",
          "name": "stdout",
          "text": [
            "8\n",
            "27\n"
          ]
        }
      ]
    },
    {
      "cell_type": "code",
      "source": [
        "def verification(name):    #following programmme will give the same statement over and over again.\n",
        "  return \"king\"\n",
        "assert verification(\"queen\") #\"\"\"the appeared person is not vthe same\"\"\"\n",
        "\n",
        "verification(\"queen\")"
      ],
      "metadata": {
        "colab": {
          "base_uri": "https://localhost:8080/",
          "height": 35
        },
        "id": "Xk-SPZctHSEZ",
        "outputId": "b02ba400-4ba9-4420-bc5f-ef42b2d8bb89"
      },
      "execution_count": null,
      "outputs": [
        {
          "output_type": "execute_result",
          "data": {
            "text/plain": [
              "'king'"
            ],
            "application/vnd.google.colaboratory.intrinsic+json": {
              "type": "string"
            }
          },
          "metadata": {},
          "execution_count": 6
        }
      ]
    },
    {
      "cell_type": "markdown",
      "source": [
        "# handeling binery or text files in python"
      ],
      "metadata": {
        "id": "Q9EJvrJBMncR"
      }
    },
    {
      "cell_type": "code",
      "source": [
        "f=open(\"file.text\",\"w\")       #you can check for r,a,r+,w+,a+, and for exclusive creation mode.\n",
        "print(\"file name is\",f.name)\n",
        "print(\"file is readable\",f.mode)\n",
        "print(\"file is closed\",f.closed)\n",
        "f.close()\n",
        "print(\"file is closed\", f.closed)"
      ],
      "metadata": {
        "colab": {
          "base_uri": "https://localhost:8080/"
        },
        "id": "CmzWUU_VIV69",
        "outputId": "b8c075ef-4081-44fa-c99a-a2436fbb89ec"
      },
      "execution_count": null,
      "outputs": [
        {
          "output_type": "stream",
          "name": "stdout",
          "text": [
            "file name is file.text\n",
            "file is readable w\n",
            "file is closed False\n",
            "file is closed True\n"
          ]
        }
      ]
    },
    {
      "cell_type": "markdown",
      "source": [
        "# folowing code snippet will give some strange result."
      ],
      "metadata": {
        "id": "r574FK6kO8dN"
      }
    },
    {
      "cell_type": "code",
      "source": [
        "f=open(\"file.text\",\"w\")\n",
        "f.write(\"i need to add some important information\\n\")\n",
        "f.write(\"this is python. practice modeule's part\\n\")\n",
        "f.write(\"Every concept will be overed thoroughly\")\n",
        "#print(\"data written to the file succesfully\")\n",
        "#f.close()\n"
      ],
      "metadata": {
        "colab": {
          "base_uri": "https://localhost:8080/"
        },
        "id": "UBaH-nTqNQMk",
        "outputId": "bb8547d1-7484-4855-a869-ca6d6c46e964"
      },
      "execution_count": null,
      "outputs": [
        {
          "output_type": "execute_result",
          "data": {
            "text/plain": [
              "39"
            ]
          },
          "metadata": {},
          "execution_count": 13
        }
      ]
    },
    {
      "cell_type": "code",
      "source": [
        "f=open(\"a.txt\",\"w\")\n",
        "l=[\"ramji\\n\",\"shyam\\n\",'ritu\\n','nachhi\\n','jayant\\n',\"ravina\"]\n",
        "f.writelines(l)\n",
        "print(\"list of the line written to the file succesfully\")\n",
        "f.close()"
      ],
      "metadata": {
        "colab": {
          "base_uri": "https://localhost:8080/"
        },
        "id": "FqhX4EWNPMlu",
        "outputId": "8df5b6ae-ff16-4504-fff0-40aa8c6f9212"
      },
      "execution_count": null,
      "outputs": [
        {
          "output_type": "stream",
          "name": "stdout",
          "text": [
            "list of the line written to the file succesfully\n"
          ]
        }
      ]
    },
    {
      "cell_type": "code",
      "source": [
        "f=open(\"a.txt\",\"r\")\n",
        "data=f.read()\n",
        "print(data)\n",
        "f.close()"
      ],
      "metadata": {
        "colab": {
          "base_uri": "https://localhost:8080/"
        },
        "id": "gfGumfbiP6ZN",
        "outputId": "236ac83d-b761-433c-9011-91d6d2c6ab84"
      },
      "execution_count": null,
      "outputs": [
        {
          "output_type": "stream",
          "name": "stdout",
          "text": [
            "ramji\n",
            "shyam\n",
            "ritu\n",
            "nachhi\n",
            "jayant\n",
            "ravina\n"
          ]
        }
      ]
    },
    {
      "cell_type": "code",
      "source": [
        "#To read only first ten characters\n",
        "f=open(\"a.txt\",\"r\")\n",
        "data=f.read(10)\n",
        "print(data)\n",
        "f.close()"
      ],
      "metadata": {
        "colab": {
          "base_uri": "https://localhost:8080/"
        },
        "id": "RXD2yjzbScsu",
        "outputId": "fd3ef639-1945-4599-ae91-1510a1363648"
      },
      "execution_count": null,
      "outputs": [
        {
          "output_type": "stream",
          "name": "stdout",
          "text": [
            "ramji\n",
            "shya\n"
          ]
        }
      ]
    },
    {
      "cell_type": "code",
      "source": [
        "# To read lines in the form of list\n",
        "f=open(\"a.txt\",\"r\")\n",
        "data=f.read()\n",
        "l=[print(x,end=\"\") for x in data]\n",
        "l\n",
        "f.close()"
      ],
      "metadata": {
        "colab": {
          "base_uri": "https://localhost:8080/"
        },
        "id": "UDl_ZXbYSz_X",
        "outputId": "efca6cc3-a3dc-425c-8908-91c828fae476"
      },
      "execution_count": null,
      "outputs": [
        {
          "output_type": "stream",
          "name": "stdout",
          "text": [
            "ramji\n",
            "shyam\n",
            "ritu\n",
            "nachhi\n",
            "jayant\n",
            "ravina"
          ]
        }
      ]
    },
    {
      "cell_type": "markdown",
      "source": [
        "# With statement:\n",
        "The advantage of with statement is it will take care closing of file,after completing all operations automatically even in the case of exceptions also, and we are not required to close explicitly."
      ],
      "metadata": {
        "id": "sjBsoy90VMFV"
      }
    },
    {
      "cell_type": "code",
      "source": [
        "with open(\"a.txt\",\"w\") as f:\n",
        "  data=f.write(\"hello world\")\n",
        "  print(data)\n",
        "  print(\"the file is closed\", f.closed)\n",
        "\n",
        "print(\"the file is closed\", f.closed)"
      ],
      "metadata": {
        "colab": {
          "base_uri": "https://localhost:8080/"
        },
        "id": "fJxSyvCgTjig",
        "outputId": "f2bdf40a-10d3-4630-b2de-15d415ae82eb"
      },
      "execution_count": null,
      "outputs": [
        {
          "output_type": "stream",
          "name": "stdout",
          "text": [
            "11\n",
            "the file is closed False\n",
            "the file is closed True\n"
          ]
        }
      ]
    },
    {
      "cell_type": "code",
      "source": [
        "line=\"a quick fox jump over the lazy little dog\"\n",
        "for word in line:\n",
        "  print(word,\"\\t\",end=\"\")"
      ],
      "metadata": {
        "colab": {
          "base_uri": "https://localhost:8080/"
        },
        "id": "J4_Eie49VwdG",
        "outputId": "fbeff8b1-84c7-46a4-98d4-dc7f17f087a2"
      },
      "execution_count": null,
      "outputs": [
        {
          "output_type": "stream",
          "name": "stdout",
          "text": [
            "a \t  \tq \tu \ti \tc \tk \t  \tf \to \tx \t  \tj \tu \tm \tp \t  \to \tv \te \tr \t  \tt \th \te \t  \tl \ta \tz \ty \t  \tl \ti \tt \tt \tl \te \t  \td \to \tg \t"
          ]
        }
      ]
    },
    {
      "cell_type": "code",
      "source": [
        "line=\"a quick fox jump over the lazy little dog\"\n",
        "for word in line:\n",
        "  print(word,\"\\t\")"
      ],
      "metadata": {
        "colab": {
          "base_uri": "https://localhost:8080/"
        },
        "id": "Bzek3DveuKRf",
        "outputId": "85c6a013-dd85-4622-a842-a1b22c2bbe40"
      },
      "execution_count": null,
      "outputs": [
        {
          "output_type": "stream",
          "name": "stdout",
          "text": [
            "a \t\n",
            "  \t\n",
            "q \t\n",
            "u \t\n",
            "i \t\n",
            "c \t\n",
            "k \t\n",
            "  \t\n",
            "f \t\n",
            "o \t\n",
            "x \t\n",
            "  \t\n",
            "j \t\n",
            "u \t\n",
            "m \t\n",
            "p \t\n",
            "  \t\n",
            "o \t\n",
            "v \t\n",
            "e \t\n",
            "r \t\n",
            "  \t\n",
            "t \t\n",
            "h \t\n",
            "e \t\n",
            "  \t\n",
            "l \t\n",
            "a \t\n",
            "z \t\n",
            "y \t\n",
            "  \t\n",
            "l \t\n",
            "i \t\n",
            "t \t\n",
            "t \t\n",
            "l \t\n",
            "e \t\n",
            "  \t\n",
            "d \t\n",
            "o \t\n",
            "g \t\n"
          ]
        }
      ]
    },
    {
      "cell_type": "code",
      "source": [
        "# To know the current working directory\n",
        "import os\n",
        "cwd=os.getcwd()\n",
        "print(\"the current working directory is :\",cwd)"
      ],
      "metadata": {
        "colab": {
          "base_uri": "https://localhost:8080/"
        },
        "id": "i3awb5bHEASI",
        "outputId": "c4dd7071-c8a6-4cc7-b360-78715548234d"
      },
      "execution_count": null,
      "outputs": [
        {
          "output_type": "stream",
          "name": "stdout",
          "text": [
            "the current working directory is : /content\n"
          ]
        }
      ]
    },
    {
      "cell_type": "code",
      "source": [
        "import os\n",
        "print(os.listdir(\".\"))"
      ],
      "metadata": {
        "colab": {
          "base_uri": "https://localhost:8080/"
        },
        "id": "OgHmdipVusrG",
        "outputId": "9b81574b-bf61-4da3-e5b4-5326b519945b"
      },
      "execution_count": null,
      "outputs": [
        {
          "output_type": "stream",
          "name": "stdout",
          "text": [
            "['.config', 'sample_data']\n"
          ]
        }
      ]
    },
    {
      "cell_type": "code",
      "source": [
        "\"\"\"Note:To display contents of particular directory, we have to provide that directory name as argument to walk() function.\n",
        "os.walk(\"directoryname\")\n",
        "Q) Whati st h edifferencebetweenlistdir)a n dwalk()Functions?\n",
        "In the case of listdir), we will get contents of specified directory but not sub directory contents. But in the case of walk() function we will get contents of specifled directory and its sub directories also.\"\"\"\n",
        "os.walk(\"/content\")"
      ],
      "metadata": {
        "colab": {
          "base_uri": "https://localhost:8080/"
        },
        "id": "EO05XF82E6bp",
        "outputId": "cb113aff-b63e-4b74-8603-4728034368ce"
      },
      "execution_count": null,
      "outputs": [
        {
          "output_type": "execute_result",
          "data": {
            "text/plain": [
              "<generator object _walk at 0x7e48be74dd20>"
            ]
          },
          "metadata": {},
          "execution_count": 6
        }
      ]
    },
    {
      "cell_type": "code",
      "source": [
        "import stat"
      ],
      "metadata": {
        "id": "v_HVY3_VG7PN"
      },
      "execution_count": null,
      "outputs": []
    },
    {
      "cell_type": "code",
      "source": [
        "\"\"\"We canget statistics of afile like size, last accessed time,last modified time etc by using stat() function of os module.\"\"\"\n",
        "f=open(\"a.txt\",\"r\")\n",
        "stats=os.stat('a.txt') #first open the file the apply this operation\n",
        "print(stats)\n"
      ],
      "metadata": {
        "colab": {
          "base_uri": "https://localhost:8080/"
        },
        "id": "PgHnhoA8FAA9",
        "outputId": "34568266-deac-4143-8feb-1e891da91834"
      },
      "execution_count": null,
      "outputs": [
        {
          "output_type": "stream",
          "name": "stdout",
          "text": [
            "os.stat_result(st_mode=33188, st_ino=2621507, st_dev=52, st_nlink=1, st_uid=0, st_gid=0, st_size=37, st_atime=1693108323, st_mtime=1693108321, st_ctime=1693108321)\n"
          ]
        }
      ]
    },
    {
      "cell_type": "markdown",
      "source": [
        "# Pickling and Unpickling of Obiects:\n",
        " the process of writing state of object to the file is called pickling and the process of reading state of an object from the file is called unpicking."
      ],
      "metadata": {
        "id": "Aoq5eRVyLlIp"
      }
    },
    {
      "cell_type": "markdown",
      "source": [
        "# Inheritence of one class into the other"
      ],
      "metadata": {
        "id": "OKOjdY9kQ_my"
      }
    },
    {
      "cell_type": "code",
      "source": [
        "class C1:\n",
        "  def f1(self):\n",
        "    print(\"this is a parent class and we will execute this just to see wether we are able to learn the concept of inheritance\")\n",
        "\n",
        "class C2(C1):\n",
        "  def f2(self):\n",
        "    print(\"this is a child class\")\n",
        "\n",
        "class C3(C2):\n",
        "  def f3(self):\n",
        "    print(\"this is subchild method\")\n",
        "\n",
        "c=C3()\n",
        "c.f1()\n",
        "c.f2()\n",
        "c.f3()"
      ],
      "metadata": {
        "colab": {
          "base_uri": "https://localhost:8080/"
        },
        "id": "dEJUcU8uHQW3",
        "outputId": "44dee967-3810-4e6d-e5ab-eb315f855653"
      },
      "execution_count": null,
      "outputs": [
        {
          "output_type": "stream",
          "name": "stdout",
          "text": [
            "this is a parent class and we will execute this just to see wether we are able to learn the concept of inheritance\n",
            "this is a child class\n",
            "this is subchild method\n"
          ]
        }
      ]
    },
    {
      "cell_type": "markdown",
      "source": [
        "# Hierarchical inheritance:\n",
        "The concept of inheriting properties from one class into multiple classes which are present at same level is known as Hierarchical Inheritance"
      ],
      "metadata": {
        "id": "xqWoyj5ASt0W"
      }
    },
    {
      "cell_type": "code",
      "source": [
        "class C1:\n",
        "  def f1(self):\n",
        "    print(\"this is a parent class and we will execute this just to see wether we are able to learn the concept of inheritance\")\n",
        "\n",
        "class C2(C1):\n",
        "  def f2(self):\n",
        "    print(\"this is a child class1\")\n",
        "\n",
        "class C3(C1):\n",
        "  def f3(self):\n",
        "    print(\"this is child class2\")\n",
        "\n",
        "c=C2()\n",
        "c1=C3()\n",
        "c.f1()\n",
        "c.f2()\n",
        "c1.f3()\n",
        "\n"
      ],
      "metadata": {
        "colab": {
          "base_uri": "https://localhost:8080/"
        },
        "id": "vVfDaLIxRwJt",
        "outputId": "1b52ab52-e3e1-4703-ff01-0ebfff7c83d4"
      },
      "execution_count": null,
      "outputs": [
        {
          "output_type": "stream",
          "name": "stdout",
          "text": [
            "this is a parent class and we will execute this just to see wether we are able to learn the concept of inheritance\n",
            "this is a child class1\n",
            "this is child class2\n"
          ]
        }
      ]
    },
    {
      "cell_type": "markdown",
      "source": [
        "# Multiple Inheritance:\n",
        "The concept of inheriting the properties from multiple classes into a single class at a\n",
        "time, is known as multiple inheritance."
      ],
      "metadata": {
        "id": "bo2Z5piETr5i"
      }
    },
    {
      "cell_type": "code",
      "source": [
        "class C2():\n",
        "  def f2(self):\n",
        "    print(\"this is child1\")\n",
        "\n",
        "class C3():\n",
        "  def f3(self):\n",
        "    print(\"this is child2\")\n",
        "class C1(C2,C3):\n",
        "  def f1(self):\n",
        "    print(\"this is a parent class and we will execute this just to see wether we are able to learn the concept of inheritance\")\n",
        "\n",
        "C=C1()\n",
        "C.f1()\n",
        "C.f2()\n",
        "C.f3()\n"
      ],
      "metadata": {
        "colab": {
          "base_uri": "https://localhost:8080/"
        },
        "id": "Z1wENkdcTJS9",
        "outputId": "c203a107-3e8b-41b3-f283-28b0d5b47b4e"
      },
      "execution_count": null,
      "outputs": [
        {
          "output_type": "stream",
          "name": "stdout",
          "text": [
            "this is a parent class and we will execute this just to see wether we are able to learn the concept of inheritance\n",
            "this is child1\n",
            "this is child2\n"
          ]
        }
      ]
    },
    {
      "cell_type": "code",
      "source": [
        "l=[1,23,34,4,5,6,7]\n",
        "sum(l)"
      ],
      "metadata": {
        "id": "2Z4_D64MUk_E",
        "colab": {
          "base_uri": "https://localhost:8080/"
        },
        "outputId": "639e81cf-1d61-423f-b0d8-654cb5423d41"
      },
      "execution_count": null,
      "outputs": [
        {
          "output_type": "execute_result",
          "data": {
            "text/plain": [
              "80"
            ]
          },
          "metadata": {},
          "execution_count": 33
        }
      ]
    },
    {
      "cell_type": "code",
      "source": [
        "from sklearn.preprocessing import OneHotEncoder\n",
        "import numpy as np\n",
        "\n",
        "# Sample categorical data\n",
        "categorical_data = ['red', 'green', 'blue', 'red', 'green']\n",
        "\n",
        "# Reshape data to a 2D array\n",
        "categorical_data = np.array(categorical_data).reshape(-1, 1)\n",
        "\n",
        "# Create an instance of OneHotEncoder\n",
        "encoder = OneHotEncoder()\n",
        "\n",
        "# Fit the encoder on your categorical data and transform it\n",
        "encoded_data = encoder.fit_transform(categorical_data)\n",
        "\n",
        "# Convert the encoded sparse matrix to an array\n",
        "encoded_array = encoded_data.toarray()\n",
        "\n",
        "print(\"Original data:\")\n",
        "print(categorical_data)\n",
        "print(\"\\nEncoded data:\")\n",
        "print(encoded_array)\n"
      ],
      "metadata": {
        "colab": {
          "base_uri": "https://localhost:8080/"
        },
        "id": "Qz_HFxpE8vkE",
        "outputId": "c192892e-5471-4eff-e964-808027bcc7d7"
      },
      "execution_count": null,
      "outputs": [
        {
          "output_type": "stream",
          "name": "stdout",
          "text": [
            "Original data:\n",
            "[['red']\n",
            " ['green']\n",
            " ['blue']\n",
            " ['red']\n",
            " ['green']]\n",
            "\n",
            "Encoded data:\n",
            "[[0. 0. 1.]\n",
            " [0. 1. 0.]\n",
            " [1. 0. 0.]\n",
            " [0. 0. 1.]\n",
            " [0. 1. 0.]]\n"
          ]
        }
      ]
    },
    {
      "cell_type": "code",
      "source": [
        "A=[[0,7,3],\n",
        "   [3,4,6],\n",
        "   [1,10,7]]\n",
        "import numpy as np"
      ],
      "metadata": {
        "id": "JWOsVIvPvoqY"
      },
      "execution_count": null,
      "outputs": []
    },
    {
      "cell_type": "code",
      "source": [
        "temp2=np.sort(A)\n",
        "temp2"
      ],
      "metadata": {
        "colab": {
          "base_uri": "https://localhost:8080/"
        },
        "id": "ERDqcDnVjXwa",
        "outputId": "7ef0d7ca-3da2-44c5-feb3-80b6ff88de7f"
      },
      "execution_count": null,
      "outputs": [
        {
          "output_type": "execute_result",
          "data": {
            "text/plain": [
              "array([[ 0,  3,  7],\n",
              "       [ 3,  4,  6],\n",
              "       [ 1,  7, 10]])"
            ]
          },
          "metadata": {},
          "execution_count": 13
        }
      ]
    },
    {
      "cell_type": "code",
      "source": [
        "A = np.array([[2, 9, 7], [1, 5, 8], [6, 0, 9]])\n",
        "A"
      ],
      "metadata": {
        "colab": {
          "base_uri": "https://localhost:8080/"
        },
        "id": "P9jQGYHav-gU",
        "outputId": "ec0db036-2a5a-4d50-cbf7-afe7b0061f04"
      },
      "execution_count": null,
      "outputs": [
        {
          "output_type": "execute_result",
          "data": {
            "text/plain": [
              "array([[2, 9, 7],\n",
              "       [1, 5, 8],\n",
              "       [6, 0, 9]])"
            ]
          },
          "metadata": {},
          "execution_count": 18
        }
      ]
    },
    {
      "cell_type": "code",
      "source": [
        "#A.sort()"
      ],
      "metadata": {
        "id": "_Bh445ZDx9Vd"
      },
      "execution_count": null,
      "outputs": []
    },
    {
      "cell_type": "code",
      "source": [
        "A"
      ],
      "metadata": {
        "colab": {
          "base_uri": "https://localhost:8080/"
        },
        "id": "rNUFzxvHx_5F",
        "outputId": "af349b78-5b6f-4a06-b813-e711c0085e95"
      },
      "execution_count": null,
      "outputs": [
        {
          "output_type": "execute_result",
          "data": {
            "text/plain": [
              "array([[2, 7, 9],\n",
              "       [1, 5, 8],\n",
              "       [0, 6, 9]])"
            ]
          },
          "metadata": {},
          "execution_count": 16
        }
      ]
    },
    {
      "cell_type": "code",
      "source": [
        "np.sort(A)"
      ],
      "metadata": {
        "colab": {
          "base_uri": "https://localhost:8080/"
        },
        "id": "ENKyhj3-yA3Q",
        "outputId": "9cd4b8ae-e06f-4718-ced9-90ad0bd155f0"
      },
      "execution_count": null,
      "outputs": [
        {
          "output_type": "execute_result",
          "data": {
            "text/plain": [
              "array([[2, 7, 9],\n",
              "       [1, 5, 8],\n",
              "       [0, 6, 9]])"
            ]
          },
          "metadata": {},
          "execution_count": 21
        }
      ]
    },
    {
      "cell_type": "code",
      "source": [
        "import numpy as np\n",
        "X=np.random.randn(10,4)\n",
        "X"
      ],
      "metadata": {
        "id": "7GQRhrj363dC",
        "colab": {
          "base_uri": "https://localhost:8080/"
        },
        "outputId": "be501dd0-805a-4c3b-eba2-9c621fc851f5"
      },
      "execution_count": 2,
      "outputs": [
        {
          "output_type": "execute_result",
          "data": {
            "text/plain": [
              "array([[-1.56531224, -0.67252618, -1.05743393, -0.22833343],\n",
              "       [ 1.39338923, -0.26405753,  0.0237197 ,  2.28146774],\n",
              "       [-0.86646098,  0.30311493,  2.87703205,  1.00302062],\n",
              "       [-1.00612357, -1.33269777, -1.18356911, -0.28366989],\n",
              "       [-0.24521633, -0.1884743 ,  0.78730895,  0.51656405],\n",
              "       [-0.25228063,  1.01917231, -0.03074493,  1.89853673],\n",
              "       [ 1.12772783,  0.46315239, -1.93744257,  0.19224343],\n",
              "       [ 2.16629369, -0.58365803,  0.62065183,  0.18782978],\n",
              "       [ 0.50093962, -0.17504445,  0.26113415,  1.59958457],\n",
              "       [ 2.02801286, -0.25544198, -0.02274943, -1.078434  ]])"
            ]
          },
          "metadata": {},
          "execution_count": 2
        }
      ]
    },
    {
      "cell_type": "code",
      "source": [],
      "metadata": {
        "id": "CeaKw9-LpxWp"
      },
      "execution_count": null,
      "outputs": []
    }
  ]
}